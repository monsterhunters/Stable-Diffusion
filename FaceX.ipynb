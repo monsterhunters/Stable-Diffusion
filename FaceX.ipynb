{
  "nbformat": 4,
  "nbformat_minor": 0,
  "metadata": {
    "colab": {
      "provenance": [],
      "gpuType": "T4",
      "include_colab_link": true
    },
    "kernelspec": {
      "name": "python3",
      "display_name": "Python 3"
    },
    "language_info": {
      "name": "python"
    },
    "accelerator": "GPU"
  },
  "cells": [
    {
      "cell_type": "markdown",
      "metadata": {
        "id": "view-in-github",
        "colab_type": "text"
      },
      "source": [
        "<a href=\"https://colab.research.google.com/github/monsterhunters/Stable-Diffusion/blob/main/FaceX.ipynb\" target=\"_parent\"><img src=\"https://colab.research.google.com/assets/colab-badge.svg\" alt=\"Open In Colab\"/></a>"
      ]
    },
    {
      "cell_type": "code",
      "source": [
        "#@title FaceX\n",
        "#@markdown - Install Dependencies\n",
        "from IPython.utils import capture\n",
        "import os\n",
        "from IPython.display import clear_output, display, HTML\n",
        "\n",
        "!wget https://github.com/monsterhunters/facex/raw/refs/heads/main/facex.zip\n",
        "!unzip facex.zip\n",
        "os.chdir('facex')\n",
        "!pip install -r requirements.txt\n",
        "!pip install onnxruntime-gpu\n",
        "!python install.py --torch cuda-12.1 --onnxruntime cuda-12.1 --skip-venv\n",
        "!apt --fix-broken install\n",
        "!apt install libcudnn9-cuda-12\n",
        "\n",
        "clear_output()\n",
        "print('Finish installation')"
      ],
      "metadata": {
        "id": "5hvomv-yS0eq",
        "cellView": "form"
      },
      "execution_count": null,
      "outputs": []
    },
    {
      "cell_type": "code",
      "source": [
        "#@title **RUN**\n",
        "#@markdown - Run Setup\n",
        "\n",
        "!python run.py run\n",
        "#@markdown <center><h6>Colab by Codemaster</h6></center>"
      ],
      "metadata": {
        "id": "8DzKJnfZqYPA",
        "cellView": "form"
      },
      "execution_count": null,
      "outputs": []
    }
  ]
}