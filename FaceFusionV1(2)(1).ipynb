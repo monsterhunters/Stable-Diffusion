{
  "nbformat": 4,
  "nbformat_minor": 0,
  "metadata": {
    "colab": {
      "provenance": [],
      "gpuType": "T4",
      "include_colab_link": true
    },
    "kernelspec": {
      "name": "python3",
      "display_name": "Python 3"
    },
    "language_info": {
      "name": "python"
    },
    "accelerator": "GPU"
  },
  "cells": [
    {
      "cell_type": "markdown",
      "metadata": {
        "id": "view-in-github",
        "colab_type": "text"
      },
      "source": [
        "<a href=\"https://colab.research.google.com/github/monsterhunters/Stable-Diffusion/blob/main/FaceFusionV1(2)(1).ipynb\" target=\"_parent\"><img src=\"https://colab.research.google.com/assets/colab-badge.svg\" alt=\"Open In Colab\"/></a>"
      ]
    },
    {
      "cell_type": "code",
      "source": [
        "#@markdown - Install Dependencies\n",
        "from IPython.utils import capture\n",
        "import os\n",
        "from IPython.display import clear_output, display, HTML\n",
        "\n",
        "\n",
        "print('Getting Info...')\n",
        "with capture.capture_output() as cap:\n",
        "    !wget https://github.com/cloudflare/cloudflared/releases/latest/download/cloudflared-linux-amd64.deb\n",
        "    !dpkg -i cloudflared-linux-amd64.deb\n",
        "    !apt-get install -f\n",
        "    !cloudflared --version\n",
        "    !mv /usr/local/bin/cloudflared /usr/local/bin/wex\n",
        "    !wget https://raw.githubusercontent.com/monsterhunters/Stable-Diffusion/main/face.py\n",
        "    !python face.py\n",
        "    %cd face\n",
        "\n",
        "print('Installing...')\n",
        "def my_function():\n",
        "    # Clone the repository\n",
        "    #os.system('git clone https://github.com/monsterhunters/stablecode.git')\n",
        "\n",
        "    # Download and install dependencies\n",
        "    os.system('wget https://huggingface.co/NoCrypt/fast-repo/resolve/main/ubuntu_deps.zip ; unzip ubuntu_deps.zip -d ./deps ; dpkg -i ./deps/* ; rm -rf ubuntu_deps.zip /content/deps/')\n",
        "\n",
        "    # Download files using aria2c\n",
        "    aria_command = (\n",
        "        \"aria2c -i- -j5 -x16 -s16 -k1M -c <<EOF\\n\"\n",
        "        \"https://huggingface.co/bigbossmonster/ext/resolve/main/facedep.tar.lz4\\n\"\n",
        "        \" out=facedep.tar.lz4\\n\"\n",
        "        \"EOF\"\n",
        "    )\n",
        "    os.system(aria_command)\n",
        "    print('Finishing the setup.. ')\n",
        "    # Extract files using tar and lz4\n",
        "    os.system('tar -xI lz4 -f facedep.tar.lz4 --overwrite-dir --directory=/')\n",
        "\n",
        "\n",
        "\n",
        "    # Remove downloaded archive files\n",
        "    os.system('rm -rf /content/facedep.tar.lz4')\n",
        "\n",
        "\n",
        "my_function()\n",
        "\n",
        "!pip install -r requirements.txt\n",
        "!pip install onnxruntime-gpu\n",
        "!python install.py --torch cuda-12.1 --onnxruntime cuda-12.1 --skip-venv\n",
        "!apt --fix-broken install\n",
        "!apt install libcudnn9-cuda-12\n",
        "\n",
        "clear_output()\n",
        "print('Finish installation')"
      ],
      "metadata": {
        "id": "5hvomv-yS0eq",
        "cellView": "form"
      },
      "execution_count": null,
      "outputs": []
    },
    {
      "cell_type": "code",
      "source": [
        "#@title **RUN**\n",
        "#@markdown - Run Setup\n",
        "import subprocess\n",
        "import threading\n",
        "import time\n",
        "import socket\n",
        "import urllib.request\n",
        "\n",
        "def iframe_thread(port):\n",
        "  while True:\n",
        "      time.sleep(0.5)\n",
        "      sock = socket.socket(socket.AF_INET, socket.SOCK_STREAM)\n",
        "      result = sock.connect_ex(('127.0.0.1', port))\n",
        "      if result == 0:\n",
        "        break\n",
        "      sock.close()\n",
        "  print(\"\\nUI finished loading, trying to launch (if it gets stuck here  is having issues)\\n\")\n",
        "\n",
        "  p = subprocess.Popen([\"wex\", \"tunnel\", \"--url\", \"http://127.0.0.1:{}\".format(port)], stdout=subprocess.PIPE, stderr=subprocess.PIPE)\n",
        "  for line in p.stderr:\n",
        "    l = line.decode()\n",
        "    if \"trycloudflare.com \" in l:\n",
        "      print(\"This is the URL to access UI:\", l[l.find(\"http\"):], end='')\n",
        "    #print(l, end='')\n",
        "\n",
        "\n",
        "threading.Thread(target=iframe_thread, daemon=True, args=(7860,)).start()\n",
        "\n",
        "!python run.py run\n",
        "#@markdown <center><h6>Colab by Codemaster</h6></center>"
      ],
      "metadata": {
        "id": "8DzKJnfZqYPA",
        "cellView": "form"
      },
      "execution_count": null,
      "outputs": []
    }
  ]
}